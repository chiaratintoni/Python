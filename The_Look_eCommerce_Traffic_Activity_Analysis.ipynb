{
 "cells": [
  {
   "cell_type": "markdown",
   "metadata": {},
   "source": [
    "# THE LOOK E-COMMERCE - TRAFFIC ACTIVITY ANALYSIS\n",
    "\n",
    "In this project an analysis of the traffic activity for The Look e-commerce website was performed using thelook_ecommerce dataset from the Google bigquery-public-data repository.\n",
    "\n",
    "Specifically, the events table was used as the main data source, as it contains session-level data about the user's online behaviour. The first part of the project was done in Google BigQuery, using SQL to create a customized 'events' table, containing the desired data, which was then extracted and saved in Python as a Pandas dataframe using bigquery and service_account packages. The obtained pandas data farme was then used to performed some analysis on the traffic activity as shown below."
   ]
  },
  {
   "cell_type": "markdown",
   "metadata": {},
   "source": [
    "Import the necessary libraries"
   ]
  },
  {
   "cell_type": "code",
   "execution_count": 2,
   "metadata": {},
   "outputs": [],
   "source": [
    "import numpy as np\n",
    "import pandas as pd\n",
    "import matplotlib.pyplot as plt\n",
    "import seaborn as sns\n",
    "from google.cloud import bigquery\n",
    "from google.oauth2 import service_account"
   ]
  },
  {
   "cell_type": "markdown",
   "metadata": {},
   "source": [
    "### Import the data from Google BigQuery\n",
    "\n",
    "Connect to Google Big Query using a service account"
   ]
  },
  {
   "cell_type": "code",
   "execution_count": 3,
   "metadata": {},
   "outputs": [],
   "source": [
    "keys = service_account.Credentials.from_service_account_file(r'C:\\Users\\chiar\\Documents\\Chiara\\Boolean\\02_Data_Analytics_Lessons\\Final Project\\keys\\boolean-class-2-12c522b3444a.json')\n",
    "project_id = 'boolean-class-2'\n",
    "client = bigquery.Client(credentials= keys, project=project_id)"
   ]
  },
  {
   "cell_type": "markdown",
   "metadata": {},
   "source": [
    "Export the events table from Google big query and store it in a pandas data frame called df_events"
   ]
  },
  {
   "cell_type": "code",
   "execution_count": 14,
   "metadata": {},
   "outputs": [],
   "source": [
    "df_events = client.query(\n",
    "    \"SELECT * FROM `boolean-class-2.final_project.events` \"\n",
    ").to_dataframe()"
   ]
  },
  {
   "cell_type": "markdown",
   "metadata": {},
   "source": [
    "Save the df_events data frame to a csv file called \"events_raw.csv\""
   ]
  },
  {
   "cell_type": "code",
   "execution_count": 26,
   "metadata": {},
   "outputs": [],
   "source": [
    "# df_events.to_csv(r'path\\events_raw.csv', index=False)"
   ]
  },
  {
   "cell_type": "markdown",
   "metadata": {},
   "source": [
    "First exploratory analysis"
   ]
  },
  {
   "cell_type": "code",
   "execution_count": 64,
   "metadata": {},
   "outputs": [],
   "source": [
    "# make a copy of the df_events data frame\n",
    "df_events_raw = df_events.copy()"
   ]
  },
  {
   "cell_type": "code",
   "execution_count": 65,
   "metadata": {},
   "outputs": [
    {
     "data": {
      "text/html": [
       "<div>\n",
       "<style scoped>\n",
       "    .dataframe tbody tr th:only-of-type {\n",
       "        vertical-align: middle;\n",
       "    }\n",
       "\n",
       "    .dataframe tbody tr th {\n",
       "        vertical-align: top;\n",
       "    }\n",
       "\n",
       "    .dataframe thead th {\n",
       "        text-align: right;\n",
       "    }\n",
       "</style>\n",
       "<table border=\"1\" class=\"dataframe\">\n",
       "  <thead>\n",
       "    <tr style=\"text-align: right;\">\n",
       "      <th></th>\n",
       "      <th>id</th>\n",
       "      <th>user_id</th>\n",
       "      <th>session_id</th>\n",
       "      <th>created_at</th>\n",
       "      <th>city</th>\n",
       "      <th>state</th>\n",
       "      <th>country</th>\n",
       "      <th>postal_code</th>\n",
       "      <th>browser</th>\n",
       "      <th>traffic_source</th>\n",
       "      <th>uri</th>\n",
       "      <th>event_type</th>\n",
       "    </tr>\n",
       "  </thead>\n",
       "  <tbody>\n",
       "    <tr>\n",
       "      <th>0</th>\n",
       "      <td>1129163</td>\n",
       "      <td>86797</td>\n",
       "      <td>a0c2a7ed-f9d0-437f-a591-4f1f84746eda</td>\n",
       "      <td>2023-05-20 08:12:07+00:00</td>\n",
       "      <td>Bogatynia</td>\n",
       "      <td>Dolnośląskie</td>\n",
       "      <td>Poland</td>\n",
       "      <td>59</td>\n",
       "      <td>Chrome</td>\n",
       "      <td>Adwords</td>\n",
       "      <td>/cart</td>\n",
       "      <td>cart</td>\n",
       "    </tr>\n",
       "    <tr>\n",
       "      <th>1</th>\n",
       "      <td>1486601</td>\n",
       "      <td>&lt;NA&gt;</td>\n",
       "      <td>732057ce-a917-4045-b66b-dbdf0421c8ec</td>\n",
       "      <td>2022-10-25 16:36:00+00:00</td>\n",
       "      <td>Bogatynia</td>\n",
       "      <td>Dolnośląskie</td>\n",
       "      <td>Poland</td>\n",
       "      <td>59</td>\n",
       "      <td>Other</td>\n",
       "      <td>Adwords</td>\n",
       "      <td>/cart</td>\n",
       "      <td>cart</td>\n",
       "    </tr>\n",
       "    <tr>\n",
       "      <th>2</th>\n",
       "      <td>967308</td>\n",
       "      <td>74351</td>\n",
       "      <td>465f1042-6586-4864-9f25-459942068681</td>\n",
       "      <td>2020-10-10 10:58:42+00:00</td>\n",
       "      <td>Bogatynia</td>\n",
       "      <td>Dolnośląskie</td>\n",
       "      <td>Poland</td>\n",
       "      <td>59</td>\n",
       "      <td>Firefox</td>\n",
       "      <td>Adwords</td>\n",
       "      <td>/cart</td>\n",
       "      <td>cart</td>\n",
       "    </tr>\n",
       "    <tr>\n",
       "      <th>3</th>\n",
       "      <td>194917</td>\n",
       "      <td>15050</td>\n",
       "      <td>99858b8f-8cee-41aa-9abf-2a6d1858cc47</td>\n",
       "      <td>2023-12-27 07:46:18+00:00</td>\n",
       "      <td>Bogatynia</td>\n",
       "      <td>Dolnośląskie</td>\n",
       "      <td>Poland</td>\n",
       "      <td>59</td>\n",
       "      <td>Safari</td>\n",
       "      <td>Adwords</td>\n",
       "      <td>/cart</td>\n",
       "      <td>cart</td>\n",
       "    </tr>\n",
       "    <tr>\n",
       "      <th>4</th>\n",
       "      <td>648455</td>\n",
       "      <td>49884</td>\n",
       "      <td>9a811a78-1482-4def-a22f-4f1059666cce</td>\n",
       "      <td>2023-10-07 13:40:49+00:00</td>\n",
       "      <td>Bogatynia</td>\n",
       "      <td>Dolnośląskie</td>\n",
       "      <td>Poland</td>\n",
       "      <td>59</td>\n",
       "      <td>IE</td>\n",
       "      <td>Adwords</td>\n",
       "      <td>/cart</td>\n",
       "      <td>cart</td>\n",
       "    </tr>\n",
       "  </tbody>\n",
       "</table>\n",
       "</div>"
      ],
      "text/plain": [
       "        id  user_id                            session_id  \\\n",
       "0  1129163    86797  a0c2a7ed-f9d0-437f-a591-4f1f84746eda   \n",
       "1  1486601     <NA>  732057ce-a917-4045-b66b-dbdf0421c8ec   \n",
       "2   967308    74351  465f1042-6586-4864-9f25-459942068681   \n",
       "3   194917    15050  99858b8f-8cee-41aa-9abf-2a6d1858cc47   \n",
       "4   648455    49884  9a811a78-1482-4def-a22f-4f1059666cce   \n",
       "\n",
       "                 created_at       city         state country postal_code  \\\n",
       "0 2023-05-20 08:12:07+00:00  Bogatynia  Dolnośląskie  Poland          59   \n",
       "1 2022-10-25 16:36:00+00:00  Bogatynia  Dolnośląskie  Poland          59   \n",
       "2 2020-10-10 10:58:42+00:00  Bogatynia  Dolnośląskie  Poland          59   \n",
       "3 2023-12-27 07:46:18+00:00  Bogatynia  Dolnośląskie  Poland          59   \n",
       "4 2023-10-07 13:40:49+00:00  Bogatynia  Dolnośląskie  Poland          59   \n",
       "\n",
       "   browser traffic_source    uri event_type  \n",
       "0   Chrome        Adwords  /cart       cart  \n",
       "1    Other        Adwords  /cart       cart  \n",
       "2  Firefox        Adwords  /cart       cart  \n",
       "3   Safari        Adwords  /cart       cart  \n",
       "4       IE        Adwords  /cart       cart  "
      ]
     },
     "execution_count": 65,
     "metadata": {},
     "output_type": "execute_result"
    }
   ],
   "source": [
    "df_events.head()"
   ]
  },
  {
   "cell_type": "code",
   "execution_count": 66,
   "metadata": {},
   "outputs": [
    {
     "name": "stdout",
     "output_type": "stream",
     "text": [
      "<class 'pandas.core.frame.DataFrame'>\n",
      "RangeIndex: 2486351 entries, 0 to 2486350\n",
      "Data columns (total 12 columns):\n",
      " #   Column          Non-Null Count    Dtype              \n",
      "---  ------          --------------    -----              \n",
      " 0   id              2486351 non-null  Int64              \n",
      " 1   user_id         1333635 non-null  Int64              \n",
      " 2   session_id      2486351 non-null  object             \n",
      " 3   created_at      2486351 non-null  datetime64[us, UTC]\n",
      " 4   city            2486351 non-null  object             \n",
      " 5   state           2486351 non-null  object             \n",
      " 6   country         2486251 non-null  object             \n",
      " 7   postal_code     2486351 non-null  object             \n",
      " 8   browser         2486351 non-null  object             \n",
      " 9   traffic_source  2486351 non-null  object             \n",
      " 10  uri             2486351 non-null  object             \n",
      " 11  event_type      2486351 non-null  object             \n",
      "dtypes: Int64(2), datetime64[us, UTC](1), object(9)\n",
      "memory usage: 232.4+ MB\n"
     ]
    }
   ],
   "source": [
    "df_events.info(show_counts=True)"
   ]
  },
  {
   "cell_type": "markdown",
   "metadata": {},
   "source": [
    "Almost half of the users navigating the website has null value for user_id: this means they are not registered to the website."
   ]
  },
  {
   "cell_type": "markdown",
   "metadata": {},
   "source": [
    "### Data Cleansing\n",
    "\n",
    "The user_id column has null values for all the users that navigate the e-commerce website without being registered. To have a clean data frame, let's replace the null values in the df_events with \"Not registered\" string"
   ]
  },
  {
   "cell_type": "code",
   "execution_count": 67,
   "metadata": {},
   "outputs": [
    {
     "name": "stdout",
     "output_type": "stream",
     "text": [
      "<class 'pandas.core.frame.DataFrame'>\n",
      "RangeIndex: 2486351 entries, 0 to 2486350\n",
      "Data columns (total 12 columns):\n",
      " #   Column          Non-Null Count    Dtype              \n",
      "---  ------          --------------    -----              \n",
      " 0   id              2486351 non-null  Int64              \n",
      " 1   user_id         2486351 non-null  int64              \n",
      " 2   session_id      2486351 non-null  object             \n",
      " 3   created_at      2486351 non-null  datetime64[us, UTC]\n",
      " 4   city            2486351 non-null  object             \n",
      " 5   state           2486351 non-null  object             \n",
      " 6   country         2486251 non-null  object             \n",
      " 7   postal_code     2486351 non-null  object             \n",
      " 8   browser         2486351 non-null  object             \n",
      " 9   traffic_source  2486351 non-null  object             \n",
      " 10  uri             2486351 non-null  object             \n",
      " 11  event_type      2486351 non-null  object             \n",
      "dtypes: Int64(1), datetime64[us, UTC](1), int64(1), object(9)\n",
      "memory usage: 230.0+ MB\n"
     ]
    }
   ],
   "source": [
    "# replace the null values in the user_id column with 0\n",
    "df_events['user_id'] = [0 if pd.isna(id) else id for id in df_events['user_id']]\n",
    "df_events.info(show_counts=True)"
   ]
  },
  {
   "cell_type": "code",
   "execution_count": 69,
   "metadata": {},
   "outputs": [
    {
     "name": "stdout",
     "output_type": "stream",
     "text": [
      "<class 'pandas.core.frame.DataFrame'>\n",
      "RangeIndex: 2486351 entries, 0 to 2486350\n",
      "Data columns (total 13 columns):\n",
      " #   Column          Non-Null Count    Dtype              \n",
      "---  ------          --------------    -----              \n",
      " 0   id              2486351 non-null  Int64              \n",
      " 1   user_id         2486351 non-null  int64              \n",
      " 2   session_id      2486351 non-null  object             \n",
      " 3   created_at      2486351 non-null  datetime64[us, UTC]\n",
      " 4   city            2486351 non-null  object             \n",
      " 5   state           2486351 non-null  object             \n",
      " 6   country         2486251 non-null  object             \n",
      " 7   postal_code     2486351 non-null  object             \n",
      " 8   browser         2486351 non-null  object             \n",
      " 9   traffic_source  2486351 non-null  object             \n",
      " 10  uri             2486351 non-null  object             \n",
      " 11  event_type      2486351 non-null  object             \n",
      " 12  registered      2486351 non-null  object             \n",
      "dtypes: Int64(1), datetime64[us, UTC](1), int64(1), object(10)\n",
      "memory usage: 249.0+ MB\n"
     ]
    }
   ],
   "source": [
    "# create a new column where users are divided between registered and not registered\n",
    "df_events['registered'] = ['not registered' if id==0 else 'registered' for id in df_events['user_id']]\n",
    "df_events.info(show_counts=True)"
   ]
  },
  {
   "cell_type": "code",
   "execution_count": 70,
   "metadata": {},
   "outputs": [
    {
     "data": {
      "text/html": [
       "<div>\n",
       "<style scoped>\n",
       "    .dataframe tbody tr th:only-of-type {\n",
       "        vertical-align: middle;\n",
       "    }\n",
       "\n",
       "    .dataframe tbody tr th {\n",
       "        vertical-align: top;\n",
       "    }\n",
       "\n",
       "    .dataframe thead th {\n",
       "        text-align: right;\n",
       "    }\n",
       "</style>\n",
       "<table border=\"1\" class=\"dataframe\">\n",
       "  <thead>\n",
       "    <tr style=\"text-align: right;\">\n",
       "      <th></th>\n",
       "      <th>id</th>\n",
       "      <th>user_id</th>\n",
       "      <th>session_id</th>\n",
       "      <th>created_at</th>\n",
       "      <th>city</th>\n",
       "      <th>state</th>\n",
       "      <th>country</th>\n",
       "      <th>postal_code</th>\n",
       "      <th>browser</th>\n",
       "      <th>traffic_source</th>\n",
       "      <th>uri</th>\n",
       "      <th>event_type</th>\n",
       "      <th>registered</th>\n",
       "    </tr>\n",
       "  </thead>\n",
       "  <tbody>\n",
       "    <tr>\n",
       "      <th>575196</th>\n",
       "      <td>49282</td>\n",
       "      <td>3810</td>\n",
       "      <td>960c3b3c-7fe5-46e4-a083-941e0343b3c8</td>\n",
       "      <td>2023-10-28 07:59:41+00:00</td>\n",
       "      <td>Fort Lauderdale</td>\n",
       "      <td>Florida</td>\n",
       "      <td>United States</td>\n",
       "      <td>33311</td>\n",
       "      <td>Chrome</td>\n",
       "      <td>Adwords</td>\n",
       "      <td>/department/women/category/maternity/brand/bel...</td>\n",
       "      <td>department</td>\n",
       "      <td>registered</td>\n",
       "    </tr>\n",
       "    <tr>\n",
       "      <th>1463568</th>\n",
       "      <td>1702541</td>\n",
       "      <td>0</td>\n",
       "      <td>fdbf7595-d06c-4656-a2e4-14faa0fef5ff</td>\n",
       "      <td>2023-06-20 01:51:00+00:00</td>\n",
       "      <td>Houston</td>\n",
       "      <td>Texas</td>\n",
       "      <td>United States</td>\n",
       "      <td>77338</td>\n",
       "      <td>IE</td>\n",
       "      <td>Email</td>\n",
       "      <td>/product/23349</td>\n",
       "      <td>product</td>\n",
       "      <td>not registered</td>\n",
       "    </tr>\n",
       "    <tr>\n",
       "      <th>1518864</th>\n",
       "      <td>1084153</td>\n",
       "      <td>83270</td>\n",
       "      <td>279689bc-cb46-496f-8ca4-0b0c86bc6d06</td>\n",
       "      <td>2023-08-05 06:36:30+00:00</td>\n",
       "      <td>Dalton</td>\n",
       "      <td>Georgia</td>\n",
       "      <td>United States</td>\n",
       "      <td>30721</td>\n",
       "      <td>Firefox</td>\n",
       "      <td>YouTube</td>\n",
       "      <td>/department/men/category/shorts/brand/columbia</td>\n",
       "      <td>department</td>\n",
       "      <td>registered</td>\n",
       "    </tr>\n",
       "    <tr>\n",
       "      <th>947484</th>\n",
       "      <td>2139661</td>\n",
       "      <td>0</td>\n",
       "      <td>db50509d-1dc7-4108-b218-551928191e00</td>\n",
       "      <td>2021-08-10 07:35:00+00:00</td>\n",
       "      <td>Tianjin</td>\n",
       "      <td>Guangdong</td>\n",
       "      <td>China</td>\n",
       "      <td>528313</td>\n",
       "      <td>Chrome</td>\n",
       "      <td>Email</td>\n",
       "      <td>/department/women/category/swim/brand/seafolly</td>\n",
       "      <td>department</td>\n",
       "      <td>not registered</td>\n",
       "    </tr>\n",
       "    <tr>\n",
       "      <th>1345736</th>\n",
       "      <td>50714</td>\n",
       "      <td>3926</td>\n",
       "      <td>f8cb66ce-1376-40e9-af54-481cb6658f9e</td>\n",
       "      <td>2020-01-15 10:52:53+00:00</td>\n",
       "      <td>Pingxiang</td>\n",
       "      <td>Guangdong</td>\n",
       "      <td>China</td>\n",
       "      <td>510435</td>\n",
       "      <td>Firefox</td>\n",
       "      <td>Email</td>\n",
       "      <td>/cart</td>\n",
       "      <td>cart</td>\n",
       "      <td>registered</td>\n",
       "    </tr>\n",
       "    <tr>\n",
       "      <th>54781</th>\n",
       "      <td>973974</td>\n",
       "      <td>74855</td>\n",
       "      <td>69f3c527-0a45-47ca-a9ef-4afa14e06362</td>\n",
       "      <td>2022-08-27 02:24:39+00:00</td>\n",
       "      <td>Paudalho</td>\n",
       "      <td>Pernambuco</td>\n",
       "      <td>Brasil</td>\n",
       "      <td>55825-000</td>\n",
       "      <td>IE</td>\n",
       "      <td>YouTube</td>\n",
       "      <td>/cart</td>\n",
       "      <td>cart</td>\n",
       "      <td>registered</td>\n",
       "    </tr>\n",
       "    <tr>\n",
       "      <th>868350</th>\n",
       "      <td>2115659</td>\n",
       "      <td>0</td>\n",
       "      <td>47ee6a94-1055-4916-993b-43bb9b445a7f</td>\n",
       "      <td>2023-03-11 01:04:00+00:00</td>\n",
       "      <td>Four-stage</td>\n",
       "      <td>Hebei</td>\n",
       "      <td>China</td>\n",
       "      <td>62552</td>\n",
       "      <td>Safari</td>\n",
       "      <td>Email</td>\n",
       "      <td>/product/21813</td>\n",
       "      <td>product</td>\n",
       "      <td>not registered</td>\n",
       "    </tr>\n",
       "    <tr>\n",
       "      <th>1993772</th>\n",
       "      <td>1989442</td>\n",
       "      <td>0</td>\n",
       "      <td>898d5d47-35a2-4a62-ad53-461d3ab13ddb</td>\n",
       "      <td>2021-01-19 06:26:00+00:00</td>\n",
       "      <td>Fort Worth</td>\n",
       "      <td>Texas</td>\n",
       "      <td>United States</td>\n",
       "      <td>76114</td>\n",
       "      <td>Chrome</td>\n",
       "      <td>YouTube</td>\n",
       "      <td>/cancel</td>\n",
       "      <td>cancel</td>\n",
       "      <td>not registered</td>\n",
       "    </tr>\n",
       "    <tr>\n",
       "      <th>2436513</th>\n",
       "      <td>1627055</td>\n",
       "      <td>0</td>\n",
       "      <td>0fd5bc98-c30d-4fdb-aab4-bf798d9baa5c</td>\n",
       "      <td>2021-04-24 16:43:00+00:00</td>\n",
       "      <td>Huainan</td>\n",
       "      <td>Tianjin</td>\n",
       "      <td>China</td>\n",
       "      <td>300393</td>\n",
       "      <td>Chrome</td>\n",
       "      <td>Email</td>\n",
       "      <td>/department/men/category/fashionhoodies&amp;sweats...</td>\n",
       "      <td>department</td>\n",
       "      <td>not registered</td>\n",
       "    </tr>\n",
       "    <tr>\n",
       "      <th>728486</th>\n",
       "      <td>780461</td>\n",
       "      <td>59903</td>\n",
       "      <td>abc39784-69b1-43be-806c-bb9e3d1bc2ba</td>\n",
       "      <td>2021-09-16 12:31:16+00:00</td>\n",
       "      <td>null</td>\n",
       "      <td>Pernambuco</td>\n",
       "      <td>Brasil</td>\n",
       "      <td>55730-000</td>\n",
       "      <td>IE</td>\n",
       "      <td>Email</td>\n",
       "      <td>/department/women/category/jeans/brand/kutfrom...</td>\n",
       "      <td>department</td>\n",
       "      <td>registered</td>\n",
       "    </tr>\n",
       "  </tbody>\n",
       "</table>\n",
       "</div>"
      ],
      "text/plain": [
       "              id  user_id                            session_id  \\\n",
       "575196     49282     3810  960c3b3c-7fe5-46e4-a083-941e0343b3c8   \n",
       "1463568  1702541        0  fdbf7595-d06c-4656-a2e4-14faa0fef5ff   \n",
       "1518864  1084153    83270  279689bc-cb46-496f-8ca4-0b0c86bc6d06   \n",
       "947484   2139661        0  db50509d-1dc7-4108-b218-551928191e00   \n",
       "1345736    50714     3926  f8cb66ce-1376-40e9-af54-481cb6658f9e   \n",
       "54781     973974    74855  69f3c527-0a45-47ca-a9ef-4afa14e06362   \n",
       "868350   2115659        0  47ee6a94-1055-4916-993b-43bb9b445a7f   \n",
       "1993772  1989442        0  898d5d47-35a2-4a62-ad53-461d3ab13ddb   \n",
       "2436513  1627055        0  0fd5bc98-c30d-4fdb-aab4-bf798d9baa5c   \n",
       "728486    780461    59903  abc39784-69b1-43be-806c-bb9e3d1bc2ba   \n",
       "\n",
       "                       created_at             city       state        country  \\\n",
       "575196  2023-10-28 07:59:41+00:00  Fort Lauderdale     Florida  United States   \n",
       "1463568 2023-06-20 01:51:00+00:00          Houston       Texas  United States   \n",
       "1518864 2023-08-05 06:36:30+00:00           Dalton     Georgia  United States   \n",
       "947484  2021-08-10 07:35:00+00:00          Tianjin   Guangdong          China   \n",
       "1345736 2020-01-15 10:52:53+00:00        Pingxiang   Guangdong          China   \n",
       "54781   2022-08-27 02:24:39+00:00         Paudalho  Pernambuco         Brasil   \n",
       "868350  2023-03-11 01:04:00+00:00       Four-stage       Hebei          China   \n",
       "1993772 2021-01-19 06:26:00+00:00       Fort Worth       Texas  United States   \n",
       "2436513 2021-04-24 16:43:00+00:00          Huainan     Tianjin          China   \n",
       "728486  2021-09-16 12:31:16+00:00             null  Pernambuco         Brasil   \n",
       "\n",
       "        postal_code  browser traffic_source  \\\n",
       "575196        33311   Chrome        Adwords   \n",
       "1463568       77338       IE          Email   \n",
       "1518864       30721  Firefox        YouTube   \n",
       "947484       528313   Chrome          Email   \n",
       "1345736      510435  Firefox          Email   \n",
       "54781     55825-000       IE        YouTube   \n",
       "868350        62552   Safari          Email   \n",
       "1993772       76114   Chrome        YouTube   \n",
       "2436513      300393   Chrome          Email   \n",
       "728486    55730-000       IE          Email   \n",
       "\n",
       "                                                       uri  event_type  \\\n",
       "575196   /department/women/category/maternity/brand/bel...  department   \n",
       "1463568                                     /product/23349     product   \n",
       "1518864     /department/men/category/shorts/brand/columbia  department   \n",
       "947484      /department/women/category/swim/brand/seafolly  department   \n",
       "1345736                                              /cart        cart   \n",
       "54781                                                /cart        cart   \n",
       "868350                                      /product/21813     product   \n",
       "1993772                                            /cancel      cancel   \n",
       "2436513  /department/men/category/fashionhoodies&sweats...  department   \n",
       "728486   /department/women/category/jeans/brand/kutfrom...  department   \n",
       "\n",
       "             registered  \n",
       "575196       registered  \n",
       "1463568  not registered  \n",
       "1518864      registered  \n",
       "947484   not registered  \n",
       "1345736      registered  \n",
       "54781        registered  \n",
       "868350   not registered  \n",
       "1993772  not registered  \n",
       "2436513  not registered  \n",
       "728486       registered  "
      ]
     },
     "execution_count": 70,
     "metadata": {},
     "output_type": "execute_result"
    }
   ],
   "source": [
    "df_events.sample(10)"
   ]
  },
  {
   "cell_type": "markdown",
   "metadata": {},
   "source": [
    "### Data Analysis and visualization\n",
    "\n",
    "#### Which parts of the website are the most visited?"
   ]
  },
  {
   "cell_type": "code",
   "execution_count": 71,
   "metadata": {},
   "outputs": [
    {
     "data": {
      "image/png": "[encoded data removed]",
      "text/plain": [
       "<Figure size 640x480 with 1 Axes>"
      ]
     },
     "metadata": {},
     "output_type": "display_data"
    }
   ],
   "source": [
    "sns.countplot(data=df_events, y='event_type', order=df_events['event_type'].value_counts().index)\n",
    "plt.show()"
   ]
  },
  {
   "cell_type": "code",
   "execution_count": 109,
   "metadata": {},
   "outputs": [
    {
     "name": "stdout",
     "output_type": "stream",
     "text": [
      "Number of visits per section:\n",
      "\n",
      "cart : 608637 ( 24.48 % of total events)\n",
      "home : 89777 ( 3.61 % of total events)\n",
      "cancel : 127970 ( 5.15 % of total events)\n",
      "product : 865031 ( 34.79 % of total events)\n",
      "purchase : 185977 ( 7.48 % of total events)\n",
      "department : 608959 ( 24.49 % of total events)\n"
     ]
    }
   ],
   "source": [
    "print('Number of visits per section:\\n')\n",
    "for section in df_events['event_type'].unique():\n",
    "    cnt = len(df_events[df_events['event_type']==str(section)])\n",
    "    pcg = round((cnt / len(df_events['event_type']))*100, 2)\n",
    "    print(str(section), ':', cnt, '(', pcg, '%', 'of total events)')"
   ]
  },
  {
   "cell_type": "markdown",
   "metadata": {},
   "source": [
    "Let's divide the above statistics between registered and non-registered users"
   ]
  },
  {
   "cell_type": "code",
   "execution_count": 108,
   "metadata": {},
   "outputs": [
    {
     "name": "stdout",
     "output_type": "stream",
     "text": [
      "Number of non registered users: 1152716 ( 46.36 % of total)\n",
      "Number of registered users: 1333635 ( 53.64 % of total)\n"
     ]
    }
   ],
   "source": [
    "non_reg = len(df_events[df_events['registered']=='not registered'])\n",
    "non_reg_pctg = round((non_reg/len(df_events))*100, 2)\n",
    "print('Number of non registered users:', non_reg, '(', non_reg_pctg, '%', 'of total)')\n",
    "reg = len(df_events)-non_reg\n",
    "reg_pctg = 100-non_reg_pctg\n",
    "print('Number of registered users:', reg, '(', reg_pctg, '%', 'of total)')"
   ]
  },
  {
   "cell_type": "code",
   "execution_count": 76,
   "metadata": {},
   "outputs": [
    {
     "data": {
      "image/png": "[encoded data removed]",
      "text/plain": [
       "<Figure size 640x480 with 1 Axes>"
      ]
     },
     "metadata": {},
     "output_type": "display_data"
    }
   ],
   "source": [
    "sns.countplot(data=df_events, y='event_type', hue='registered', order=df_events['event_type'].value_counts().index)\n",
    "plt.legend(title='user status')\n",
    "plt.show()"
   ]
  },
  {
   "cell_type": "code",
   "execution_count": 100,
   "metadata": {},
   "outputs": [
    {
     "name": "stdout",
     "output_type": "stream",
     "text": [
      "Number of visits per section:\n",
      "\n"
     ]
    },
    {
     "data": {
      "text/html": [
       "<div>\n",
       "<style scoped>\n",
       "    .dataframe tbody tr th:only-of-type {\n",
       "        vertical-align: middle;\n",
       "    }\n",
       "\n",
       "    .dataframe tbody tr th {\n",
       "        vertical-align: top;\n",
       "    }\n",
       "\n",
       "    .dataframe thead th {\n",
       "        text-align: right;\n",
       "    }\n",
       "</style>\n",
       "<table border=\"1\" class=\"dataframe\">\n",
       "  <thead>\n",
       "    <tr style=\"text-align: right;\">\n",
       "      <th></th>\n",
       "      <th>user type</th>\n",
       "      <th>section</th>\n",
       "      <th>No. visits</th>\n",
       "      <th>pctg</th>\n",
       "    </tr>\n",
       "  </thead>\n",
       "  <tbody>\n",
       "    <tr>\n",
       "      <th>0</th>\n",
       "      <td>registered</td>\n",
       "      <td>cart</td>\n",
       "      <td>352627</td>\n",
       "      <td>26</td>\n",
       "    </tr>\n",
       "    <tr>\n",
       "      <th>1</th>\n",
       "      <td>registered</td>\n",
       "      <td>home</td>\n",
       "      <td>89777</td>\n",
       "      <td>6</td>\n",
       "    </tr>\n",
       "    <tr>\n",
       "      <th>2</th>\n",
       "      <td>registered</td>\n",
       "      <td>product</td>\n",
       "      <td>352627</td>\n",
       "      <td>26</td>\n",
       "    </tr>\n",
       "    <tr>\n",
       "      <th>3</th>\n",
       "      <td>registered</td>\n",
       "      <td>purchase</td>\n",
       "      <td>185977</td>\n",
       "      <td>13</td>\n",
       "    </tr>\n",
       "    <tr>\n",
       "      <th>4</th>\n",
       "      <td>registered</td>\n",
       "      <td>department</td>\n",
       "      <td>352627</td>\n",
       "      <td>26</td>\n",
       "    </tr>\n",
       "    <tr>\n",
       "      <th>5</th>\n",
       "      <td>not registered</td>\n",
       "      <td>cart</td>\n",
       "      <td>256010</td>\n",
       "      <td>22</td>\n",
       "    </tr>\n",
       "    <tr>\n",
       "      <th>6</th>\n",
       "      <td>not registered</td>\n",
       "      <td>cancel</td>\n",
       "      <td>127970</td>\n",
       "      <td>11</td>\n",
       "    </tr>\n",
       "    <tr>\n",
       "      <th>7</th>\n",
       "      <td>not registered</td>\n",
       "      <td>product</td>\n",
       "      <td>512404</td>\n",
       "      <td>44</td>\n",
       "    </tr>\n",
       "    <tr>\n",
       "      <th>8</th>\n",
       "      <td>not registered</td>\n",
       "      <td>department</td>\n",
       "      <td>256332</td>\n",
       "      <td>22</td>\n",
       "    </tr>\n",
       "  </tbody>\n",
       "</table>\n",
       "</div>"
      ],
      "text/plain": [
       "        user type     section  No. visits  pctg\n",
       "0      registered        cart      352627    26\n",
       "1      registered        home       89777     6\n",
       "2      registered     product      352627    26\n",
       "3      registered    purchase      185977    13\n",
       "4      registered  department      352627    26\n",
       "5  not registered        cart      256010    22\n",
       "6  not registered      cancel      127970    11\n",
       "7  not registered     product      512404    44\n",
       "8  not registered  department      256332    22"
      ]
     },
     "execution_count": 100,
     "metadata": {},
     "output_type": "execute_result"
    }
   ],
   "source": [
    "print('Number of visits per section:\\n')\n",
    "data_list = []\n",
    "for u in df_events['registered'].unique():\n",
    "    df_u = df_events[df_events['registered']==u]\n",
    "    for s in df_u['event_type'].unique():\n",
    "        cnt = len(df_u[df_u['event_type']==s])\n",
    "        pcg = int((cnt / len(df_u['event_type']))*100)\n",
    "        data_list.append({'user type':u, 'section':s, 'No. visits':cnt, 'pctg':pcg})\n",
    "        section_df = pd.DataFrame(data_list)\n",
    "section_df"
   ]
  },
  {
   "cell_type": "markdown",
   "metadata": {},
   "source": [
    "As shown in chart above, the same rank of visited department is applicable for both registered and non-registered users, with the last ones showing a higher number of visits to the product section, and less visists to department and cart sections compared to registered users. It's worth noticing that non-registered users do not purhase on the e-commerce website even if they add products to the cart: this might mean that the website does not allow non-registered users to complete orders. In order to increase the amount of sales, it may be useful to either encourage non-registered users to created an account (i.e. by offering a discount on their first order upon creating a new account) or allow them to purchase items even without a registered account."
   ]
  },
  {
   "cell_type": "markdown",
   "metadata": {},
   "source": [
    "##### Where is the traffic coming from?"
   ]
  },
  {
   "cell_type": "markdown",
   "metadata": {},
   "source": [
    "This question might be interpreted in 2 different ways:\n",
    "\n",
    "- Wich country is the traffic coming from?\n",
    "- Which source is the traffic coming from (i.e. which source brought the users to the website)?"
   ]
  },
  {
   "cell_type": "markdown",
   "metadata": {},
   "source": [
    "Let's start with the geografical question:"
   ]
  },
  {
   "cell_type": "code",
   "execution_count": 84,
   "metadata": {},
   "outputs": [
    {
     "data": {
      "image/png": "[encoded data removed]",
      "text/plain": [
       "<Figure size 640x480 with 1 Axes>"
      ]
     },
     "metadata": {},
     "output_type": "display_data"
    }
   ],
   "source": [
    "sns.countplot(data=df_events, y='country', order=df_events['country'].value_counts().index)\n",
    "plt.show()"
   ]
  },
  {
   "cell_type": "code",
   "execution_count": 95,
   "metadata": {},
   "outputs": [
    {
     "data": {
      "text/html": [
       "<div>\n",
       "<style scoped>\n",
       "    .dataframe tbody tr th:only-of-type {\n",
       "        vertical-align: middle;\n",
       "    }\n",
       "\n",
       "    .dataframe tbody tr th {\n",
       "        vertical-align: top;\n",
       "    }\n",
       "\n",
       "    .dataframe thead th {\n",
       "        text-align: right;\n",
       "    }\n",
       "</style>\n",
       "<table border=\"1\" class=\"dataframe\">\n",
       "  <thead>\n",
       "    <tr style=\"text-align: right;\">\n",
       "      <th></th>\n",
       "      <th>country</th>\n",
       "      <th>count of visits</th>\n",
       "      <th>percentage of visits</th>\n",
       "    </tr>\n",
       "  </thead>\n",
       "  <tbody>\n",
       "    <tr>\n",
       "      <th>0</th>\n",
       "      <td>China</td>\n",
       "      <td>826403</td>\n",
       "      <td>33.24</td>\n",
       "    </tr>\n",
       "    <tr>\n",
       "      <th>1</th>\n",
       "      <td>United States</td>\n",
       "      <td>545107</td>\n",
       "      <td>21.92</td>\n",
       "    </tr>\n",
       "    <tr>\n",
       "      <th>2</th>\n",
       "      <td>Brasil</td>\n",
       "      <td>353283</td>\n",
       "      <td>14.21</td>\n",
       "    </tr>\n",
       "    <tr>\n",
       "      <th>3</th>\n",
       "      <td>South Korea</td>\n",
       "      <td>130581</td>\n",
       "      <td>5.25</td>\n",
       "    </tr>\n",
       "    <tr>\n",
       "      <th>4</th>\n",
       "      <td>France</td>\n",
       "      <td>112016</td>\n",
       "      <td>4.51</td>\n",
       "    </tr>\n",
       "  </tbody>\n",
       "</table>\n",
       "</div>"
      ],
      "text/plain": [
       "         country  count of visits  percentage of visits\n",
       "0          China           826403                 33.24\n",
       "1  United States           545107                 21.92\n",
       "2         Brasil           353283                 14.21\n",
       "3    South Korea           130581                  5.25\n",
       "4         France           112016                  4.51"
      ]
     },
     "execution_count": 95,
     "metadata": {},
     "output_type": "execute_result"
    }
   ],
   "source": [
    "data_list = []\n",
    "for c in df_events['country'].unique():\n",
    "    count_visits = len(df_events[df_events['country']==c])\n",
    "    data_list.append({'country': c, 'count of visits': count_visits})\n",
    "traffic_country = pd.DataFrame(data_list)\n",
    "traffic_country = traffic_country.sort_values(by='count of visits', ascending=False, ignore_index=True)\n",
    "traffic_country['percentage of visits'] = round((traffic_country['count of visits']/sum(traffic_country['count of visits']))*100, 2)\n",
    "traffic_country.head()"
   ]
  },
  {
   "cell_type": "markdown",
   "metadata": {},
   "source": [
    "China, US and Brazil are the countries where most of the traffic (almost 70%) comes from. Same trend is observed for both registered and non-registered users."
   ]
  },
  {
   "cell_type": "code",
   "execution_count": 103,
   "metadata": {},
   "outputs": [
    {
     "data": {
      "image/png": "[encoded data removed]",
      "text/plain": [
       "<Figure size 640x480 with 1 Axes>"
      ]
     },
     "metadata": {},
     "output_type": "display_data"
    }
   ],
   "source": [
    "sns.countplot(data=df_events, y='country', hue='registered', order=df_events['country'].value_counts().index)\n",
    "plt.legend(title='user status', loc='lower right')\n",
    "plt.show()"
   ]
  },
  {
   "cell_type": "markdown",
   "metadata": {},
   "source": [
    "Which source is the traffic coming from (i.e. which source brought the users to the website)?"
   ]
  },
  {
   "cell_type": "code",
   "execution_count": 101,
   "metadata": {},
   "outputs": [
    {
     "data": {
      "image/png": "[encoded data removed]",
      "text/plain": [
       "<Figure size 640x480 with 1 Axes>"
      ]
     },
     "metadata": {},
     "output_type": "display_data"
    }
   ],
   "source": [
    "sns.countplot(data=df_events, y='traffic_source', order=df_events['traffic_source'].value_counts().index)\n",
    "plt.show()"
   ]
  },
  {
   "cell_type": "code",
   "execution_count": 104,
   "metadata": {},
   "outputs": [
    {
     "data": {
      "text/html": [
       "<div>\n",
       "<style scoped>\n",
       "    .dataframe tbody tr th:only-of-type {\n",
       "        vertical-align: middle;\n",
       "    }\n",
       "\n",
       "    .dataframe tbody tr th {\n",
       "        vertical-align: top;\n",
       "    }\n",
       "\n",
       "    .dataframe thead th {\n",
       "        text-align: right;\n",
       "    }\n",
       "</style>\n",
       "<table border=\"1\" class=\"dataframe\">\n",
       "  <thead>\n",
       "    <tr style=\"text-align: right;\">\n",
       "      <th></th>\n",
       "      <th>traffic source</th>\n",
       "      <th>count of visits</th>\n",
       "      <th>percentage of visits</th>\n",
       "    </tr>\n",
       "  </thead>\n",
       "  <tbody>\n",
       "    <tr>\n",
       "      <th>0</th>\n",
       "      <td>Email</td>\n",
       "      <td>1118838</td>\n",
       "      <td>33.24</td>\n",
       "    </tr>\n",
       "    <tr>\n",
       "      <th>1</th>\n",
       "      <td>Adwords</td>\n",
       "      <td>748850</td>\n",
       "      <td>21.92</td>\n",
       "    </tr>\n",
       "    <tr>\n",
       "      <th>2</th>\n",
       "      <td>YouTube</td>\n",
       "      <td>249021</td>\n",
       "      <td>14.21</td>\n",
       "    </tr>\n",
       "    <tr>\n",
       "      <th>3</th>\n",
       "      <td>Facebook</td>\n",
       "      <td>246586</td>\n",
       "      <td>5.25</td>\n",
       "    </tr>\n",
       "    <tr>\n",
       "      <th>4</th>\n",
       "      <td>Organic</td>\n",
       "      <td>123056</td>\n",
       "      <td>4.51</td>\n",
       "    </tr>\n",
       "  </tbody>\n",
       "</table>\n",
       "</div>"
      ],
      "text/plain": [
       "  traffic source  count of visits  percentage of visits\n",
       "0          Email          1118838                 33.24\n",
       "1        Adwords           748850                 21.92\n",
       "2        YouTube           249021                 14.21\n",
       "3       Facebook           246586                  5.25\n",
       "4        Organic           123056                  4.51"
      ]
     },
     "execution_count": 104,
     "metadata": {},
     "output_type": "execute_result"
    }
   ],
   "source": [
    "data_list = []\n",
    "for t in df_events['traffic_source'].unique():\n",
    "    count_visits = len(df_events[df_events['traffic_source']==t])\n",
    "    data_list.append({'traffic source': t, 'count of visits': count_visits})\n",
    "traffic_source_df = pd.DataFrame(data_list)\n",
    "traffic_source_df = traffic_source_df.sort_values(by='count of visits', ascending=False, ignore_index=True)\n",
    "traffic_source_df['percentage of visits'] = round((traffic_country['count of visits']/sum(traffic_country['count of visits']))*100, 2)\n",
    "traffic_source_df.head()"
   ]
  },
  {
   "cell_type": "code",
   "execution_count": 105,
   "metadata": {},
   "outputs": [
    {
     "data": {
      "image/png": "[encoded data removed]",
      "text/plain": [
       "<Figure size 640x480 with 1 Axes>"
      ]
     },
     "metadata": {},
     "output_type": "display_data"
    }
   ],
   "source": [
    "sns.countplot(data=df_events, y='traffic_source', hue='registered', order=df_events['traffic_source'].value_counts().index)\n",
    "plt.legend(title='user status', loc='lower right')\n",
    "plt.show()"
   ]
  },
  {
   "cell_type": "markdown",
   "metadata": {},
   "source": [
    "As shown in the above charts, email and adwords are the 2 main sources used by either registered or not registered users to reach the e-commerce website. Therefore sending emails or investing in enlarnging the adwords usage to encourage users to purchase items from the e-commerce website (i.e. with discounts, limited offers etc...) may be a good strategy to increase the amount of sales."
   ]
  }
 ],
 "metadata": {
  "kernelspec": {
   "display_name": "Python 3",
   "language": "python",
   "name": "python3"
  },
  "language_info": {
   "codemirror_mode": {
    "name": "ipython",
    "version": 3
   },
   "file_extension": ".py",
   "mimetype": "text/x-python",
   "name": "python",
   "nbconvert_exporter": "python",
   "pygments_lexer": "ipython3",
   "version": "3.11.7"
  }
 },
 "nbformat": 4,
 "nbformat_minor": 2
}
